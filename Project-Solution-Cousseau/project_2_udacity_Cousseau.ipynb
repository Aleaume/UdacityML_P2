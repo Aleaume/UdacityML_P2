{
 "cells": [
  {
   "cell_type": "markdown",
   "metadata": {},
   "source": [
    "# Solution for 2nd Project for Azure ML (Udacity Course 2)\n",
    "This notebook delivers the solution for the Project Operationalizing Machine Learning from the Udacity Course \"Machine Learning Engineer with Microsoft Azure Nanoderee Program\"\n",
    "\n",
    "Author: Aléaume COUSSEAU / aliaume64@gmail.com"
   ]
  },
  {
   "cell_type": "markdown",
   "metadata": {},
   "source": [
    "## Retrieving current Workspace"
   ]
  },
  {
   "cell_type": "code",
   "execution_count": null,
   "metadata": {},
   "outputs": [],
   "source": [
    "from azureml.core import Workspace, Experiment, Dataset\n",
    "\n",
    "#ws = Workspace.get(name=\"udacity-project\")\n",
    "ws = Workspace.from_config()  # using the current workspace (Lab)  SOURCE: https://docs.microsoft.com/en-us/python/api/azureml-core/azureml.core.workspace.workspace?view=azure-ml-py\n",
    "exp = Experiment(workspace=ws, name=\"udacity-project_2_Cousseau\")\n",
    "\n",
    "print('Workspace name: ' + ws.name, \n",
    "      'Azure region: ' + ws.location, \n",
    "      'Subscription id: ' + ws.subscription_id, \n",
    "      'Resource group: ' + ws.resource_group, sep = '\\n')\n",
    "\n",
    "run = exp.start_logging()"
   ]
  },
  {
   "cell_type": "markdown",
   "metadata": {},
   "source": [
    "## Creating a compute Cluster\n",
    "\n",
    "If compute cluster already exists, it will just identify it and end."
   ]
  },
  {
   "cell_type": "code",
   "execution_count": null,
   "metadata": {},
   "outputs": [],
   "source": [
    "from azureml.core.compute import ComputeTarget, AmlCompute\n",
    "from azureml.core.compute_target import ComputeTargetException\n",
    "\n",
    "# TODO: Create compute cluster\n",
    "# Use vm_size = \"Standard_DS12_V2\" in your provisioning configuration.\n",
    "# min_nodes should be 1\n",
    "\n",
    "cluster_name = \"myCluster\"\n",
    "try:\n",
    "    cluster = ComputeTarget(workspace=ws, name=cluster_name)\n",
    "    print(\"Cluster already created\")\n",
    "except ComputeTargetException:\n",
    "    compute_config = AmlCompute.provisioning_configuration(vm_size=\"STANDARD_DS12_V2\",min_nodes=1, max_nodes=6)\n",
    "    cluster = ComputeTarget.create(ws,cluster_name, compute_config) #creates the actual cluster\n",
    "\n",
    "cluster.wait_for_completion(show_output=True)  #Allows to continus on other threads while cluster is being created\n",
    "\n",
    "\n",
    "#SOURCE / HELP: https://docs.microsoft.com/en-us/python/api/azureml-core/azureml.core.compute.amlcompute.amlcompute?view=azure-ml-py"
   ]
  },
  {
   "cell_type": "markdown",
   "metadata": {},
   "source": [
    "## Create Dataset\n",
    "Here we create a tabular dataset from the url provided and specify among others that the first line are headers."
   ]
  },
  {
   "cell_type": "code",
   "execution_count": null,
   "metadata": {},
   "outputs": [],
   "source": [
    "from azureml.data.dataset_factory import TabularDatasetFactory\n",
    "from azureml.data.dataset_type_definitions import PromoteHeadersBehavior\n",
    "\n",
    "# Create TabularDataset using TabularDatasetFactory\n",
    "# Data is available at: \n",
    "# \"https://automlsamplenotebookdata.blob.core.windows.net/automl-sample-notebook-data/bankmarketing_train.csv\"\n",
    "\n",
    "dataPath = \"https://automlsamplenotebookdata.blob.core.windows.net/automl-sample-notebook-data/bankmarketing_train.csv\"\n",
    "\n",
    "#dataset = Dataset.Tabular.from_delimited_files(path=dataPath,validate=True, include_path=False,header=True, support_multi_line=False)\n",
    "\n",
    "dataset = Dataset.Tabular.from_delimited_files(path=dataPath,validate=True, include_path=False,header=PromoteHeadersBehavior.ONLY_FIRST_FILE_HAS_HEADERS, support_multi_line=False)\n",
    "\n",
    "#Enum with ONLY_FIRST_FILE_HAS_HEADERS https://github.com/Azure/MachineLearningNotebooks/issues/629 \n",
    "#https://docs.microsoft.com/en-us/python/api/azureml-core/azureml.data.dataset_type_definitions.promoteheadersbehavior?view=azure-ml-py\n",
    "\n",
    "#Register dataset\n",
    "\n",
    "datasetBankMarketing = dataset.register(workspace=ws, name='datasetBankMarketing', description='bank marketing training data')\n",
    "\n",
    "#Display the first 10 rows for check\n",
    "\n",
    "dataset.take(10).to_pandas_dataframe()"
   ]
  },
  {
   "cell_type": "markdown",
   "metadata": {},
   "source": [
    "## Create & Run New AutoML Experiment"
   ]
  },
  {
   "cell_type": "code",
   "execution_count": null,
   "metadata": {},
   "outputs": [],
   "source": [
    "from azureml.train.automl import AutoMLConfig\n",
    "\n",
    "# Set parameters for AutoMLConfig with\n",
    "# Classification\n",
    "# ensure Explain best model is checked\n",
    "# Exit criteria = 1 hour\n",
    "# reduce concurency to 5 ???\n",
    "#\n",
    "\n",
    "automl_config = AutoMLConfig(\n",
    "    experiment_timeout_minutes=60,\n",
    "    task='classification',\n",
    "    primary_metric='accuracy',\n",
    "    training_data= dataset,\n",
    "    validation_size = 0.33,\n",
    "    label_column_name='y',\n",
    "    compute_target = cluster,\n",
    "    enable_early_stopping= True,\n",
    "    model_explainability = True,\n",
    "    max_concurrent_iterations = 5\n",
    "    )\n",
    "\n",
    "#SOURCE / HELP: https://docs.microsoft.com/en-us/python/api/azureml-train-automl-client/azureml.train.automl.automlconfig.automlconfig?view=azure-ml-py\n",
    "\n",
    "#  model_explainability: bool = True ???\n",
    "\n",
    "#validation_size, parameter to hold out a portion of the training data for validation >> here 33% as in the train.py\n",
    "# otherwise replace with n_cross_validations=5\n",
    "#SOURCE / HELP : https://docs.microsoft.com/en-us/azure/machine-learning/how-to-configure-cross-validation-data-splits"
   ]
  },
  {
   "cell_type": "code",
   "execution_count": null,
   "metadata": {},
   "outputs": [],
   "source": [
    "# Submit your automl run\n",
    "\n",
    "from azureml.widgets import RunDetails\n",
    "\n",
    "runAutoML = exp.submit(automl_config)\n",
    "\n",
    "RunDetails(runAutoML).show()"
   ]
  },
  {
   "cell_type": "code",
   "execution_count": null,
   "metadata": {},
   "outputs": [],
   "source": [
    "# Retrieve and display best run\n",
    "\n",
    "#bestRunAutoML = runAutoML.get_best_child()\n",
    "\n",
    "#RunDetails(bestRunAutoML).show()\n",
    "\n",
    "best_run, fitted_model = runAutoML.get_output()\n",
    "print(best_run)\n",
    "print(fitted_model)"
   ]
  },
  {
   "cell_type": "code",
   "execution_count": null,
   "metadata": {},
   "outputs": [],
   "source": [
    "# Register run as Model\n",
    "\n",
    "model_name = \"AleaumeModel\"\n",
    "description = \"Best AutoML Model\"\n",
    "#model = best_run.register_model(model_name = model_name, description = description) #One direction to investigate on how to register and have a swagger.json... so faar not successful\n",
    "\n",
    "model = runAutoML.register_model(model_name = model_name, description = description)\n",
    "\n",
    "#SOURCE / HELP: https://docs.microsoft.com/en-us/azure/machine-learning/how-to-deploy-and-where?tabs=python\n",
    "\n",
    "#Unfortunately so far unsuccessful to register the model via SDK and get a default generated swagger.json uri. Also,  MSFT support recommends to do so via AML studio..."
   ]
  },
  {
   "cell_type": "markdown",
   "metadata": {},
   "source": [
    "# Step 3: Deploy the Best Model\n",
    "\n",
    "-Deploy the model and enable \"Authentication\"\n",
    "-Deploy the model using Azure Container Instance (ACI)"
   ]
  },
  {
   "cell_type": "code",
   "execution_count": null,
   "metadata": {},
   "outputs": [],
   "source": [
    "#Define inference configuration\n",
    "\n",
    "#score.py needs to be located in the same directory as this notebook. Otherwise update the source_directory variable\n",
    "\n",
    "from azureml.core import Environment\n",
    "from azureml.core.model import InferenceConfig\n",
    "\n",
    "env = Environment(name=\"Project 2 Udacity\")\n",
    "my_inference_config = InferenceConfig(\n",
    "    environment=env,\n",
    "    source_directory=\"./\",\n",
    "    entry_script=\"./score.py\",\n",
    ")"
   ]
  },
  {
   "cell_type": "code",
   "execution_count": null,
   "metadata": {},
   "outputs": [],
   "source": [
    "from azureml.core.webservice import LocalWebservice\n",
    "\n",
    "deployment_config = LocalWebservice.deploy_configuration(port=9001)\n",
    "\n",
    "# Deploy the service locally\n",
    "\n",
    "service = model.deploy(ws, \"local-service\", [model], my_inference_config, deployment_config)\n",
    "service.reload()\n",
    "print(service.get_logs())\n",
    "\n",
    "\n",
    "#SOURCE / HELP https://docs.microsoft.com/en-us/azure/machine-learning/how-to-deploy-and-where?tabs=python"
   ]
  },
  {
   "cell_type": "code",
   "execution_count": null,
   "metadata": {},
   "outputs": [],
   "source": [
    "#Call model to test \n",
    "import requests\n",
    "import json\n",
    "\n",
    "uri = service.scoring_uri\n",
    "requests.get(\"http://localhost:9001\")\n",
    "headers = {\"Content-Type\": \"application/json\"}\n",
    "data = {\n",
    "    \"query\": \"This is a test query\"\n",
    "}\n",
    "data = json.dumps(data)\n",
    "response = requests.post(uri, data=data, headers=headers)\n",
    "print(response.json())"
   ]
  },
  {
   "cell_type": "code",
   "execution_count": null,
   "metadata": {},
   "outputs": [],
   "source": [
    "#Deploy to ACI\n",
    "\n",
    "from azureml.core.webservice import AciWebservice\n",
    "\n",
    "deployment_config = AciWebservice.deploy_configuration(\n",
    "    cpu_cores=0.5, memory_gb=1, auth_enabled=True\n",
    ")\n",
    "\n",
    "service = model.deploy(\n",
    "    ws,\n",
    "    \"myservice\",\n",
    "    [model],\n",
    "    my_inference_config,\n",
    "    deployment_config,\n",
    "    overwrite=True,\n",
    ")\n",
    "service.wait_for_deployment(show_output=True)\n",
    "\n",
    "print(service.get_logs())\n",
    "\n",
    "#works but does not provide a swagger URI (see registering model step comments)\n",
    "\n",
    "#SOURCE / HELP : https://docs.microsoft.com/en-us/azure/machine-learning/how-to-deploy-and-where?tabs=python"
   ]
  },
  {
   "cell_type": "markdown",
   "metadata": {},
   "source": [
    "# Step 4: Enable Logging\n",
    "\n",
    "- ensure az is installed, as well as the Python SDK for Azure\n",
    "- Create a new virtual environment with Python3\n",
    "- Write and run code to enable Application Insights\n",
    "- run logs.py to visualize logs"
   ]
  },
  {
   "cell_type": "code",
   "execution_count": null,
   "metadata": {},
   "outputs": [],
   "source": [
    "# enable application insight\n",
    "\n",
    "service.update(enable_app_insights=True)\n",
    "\n",
    "# OTHERWISE FROM SCRATCH\n",
    "\n",
    "#from azureml.core.webservice import Webservice\n",
    "# Requires the config to be downloaded first to the current working directory (config.json)\n",
    "#ws = Workspace.from_config()\n",
    "# Set with the deployment name\n",
    "#name = \"name_OF_Service\"\n",
    "# load existing web service\n",
    "#service = Webservice(name=name, workspace=ws)\n",
    "# enable application insight\n",
    "#service.update(enable_app_insights=True)"
   ]
  }
 ],
 "metadata": {
  "language_info": {
   "name": "python"
  },
  "orig_nbformat": 4
 },
 "nbformat": 4,
 "nbformat_minor": 2
}
