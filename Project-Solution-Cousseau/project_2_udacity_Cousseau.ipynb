{
 "cells": [
  {
   "cell_type": "markdown",
   "source": [
    "# Solution for 2nd Project for Azure ML (Udacity Course 2)\r\n",
    "This notebook delivers the solution for the Project Operationalizing Machine Learning from the Udacity Course \"Machine Learning Engineer with Microsoft Azure Nanoderee Program\"\r\n",
    "\r\n",
    "Author: Aléaume COUSSEAU / aliaume64@gmail.com"
   ],
   "metadata": {}
  },
  {
   "cell_type": "markdown",
   "source": [
    "## Retrieving current Workspace"
   ],
   "metadata": {}
  },
  {
   "cell_type": "code",
   "execution_count": null,
   "source": [
    "from azureml.core import Workspace, Experiment, Dataset\r\n",
    "\r\n",
    "#ws = Workspace.get(name=\"udacity-project\")\r\n",
    "ws = Workspace.from_config()  # using the current workspace (Lab)  SOURCE: https://docs.microsoft.com/en-us/python/api/azureml-core/azureml.core.workspace.workspace?view=azure-ml-py\r\n",
    "exp = Experiment(workspace=ws, name=\"udacity-project_2_Cousseau\")\r\n",
    "\r\n",
    "print('Workspace name: ' + ws.name, \r\n",
    "      'Azure region: ' + ws.location, \r\n",
    "      'Subscription id: ' + ws.subscription_id, \r\n",
    "      'Resource group: ' + ws.resource_group, sep = '\\n')\r\n",
    "\r\n",
    "run = exp.start_logging()"
   ],
   "outputs": [],
   "metadata": {}
  },
  {
   "cell_type": "markdown",
   "source": [
    "## Creating a compute Cluster\r\n",
    "\r\n",
    "If compute cluster already exists, it will just identify it and end."
   ],
   "metadata": {}
  },
  {
   "cell_type": "code",
   "execution_count": null,
   "source": [
    "from azureml.core.compute import ComputeTarget, AmlCompute\r\n",
    "from azureml.core.compute_target import ComputeTargetException\r\n",
    "\r\n",
    "# TODO: Create compute cluster\r\n",
    "# Use vm_size = \"Standard_DS12_V2\" in your provisioning configuration.\r\n",
    "# min_nodes should be 1\r\n",
    "\r\n",
    "cluster_name = \"myCluster\"\r\n",
    "try:\r\n",
    "    cluster = ComputeTarget(workspace=ws, name=cluster_name)\r\n",
    "    print(\"Cluster already created\")\r\n",
    "except ComputeTargetException:\r\n",
    "    compute_config = AmlCompute.provisioning_configuration(vm_size=\"STANDARD_DS12_V2\",,min_nodes=1, max_nodes=4)\r\n",
    "    cluster = ComputeTarget.create(ws,cluster_name, compute_config) #creates the actual cluster\r\n",
    "\r\n",
    "cluster.wait_for_completion(show_output=True)  #Allows to continus on other threads while cluster is being created\r\n",
    "\r\n",
    "\r\n",
    "#SOURCE / HELP: https://docs.microsoft.com/en-us/python/api/azureml-core/azureml.core.compute.amlcompute.amlcompute?view=azure-ml-py"
   ],
   "outputs": [],
   "metadata": {}
  },
  {
   "cell_type": "markdown",
   "source": [
    "## Create Dataset\r\n",
    "Here we create a tabular dataset from the url provided and specify among others that the first line are headers."
   ],
   "metadata": {}
  },
  {
   "cell_type": "code",
   "execution_count": null,
   "source": [
    "from azureml.data.dataset_factory import TabularDatasetFactory\r\n",
    "from azureml.data.dataset_type_definitions import PromoteHeadersBehavior\r\n",
    "\r\n",
    "# Create TabularDataset using TabularDatasetFactory\r\n",
    "# Data is available at: \r\n",
    "# \"https://automlsamplenotebookdata.blob.core.windows.net/automl-sample-notebook-data/bankmarketing_train.csv\"\r\n",
    "\r\n",
    "dataPath = \"https://automlsamplenotebookdata.blob.core.windows.net/automl-sample-notebook-data/bankmarketing_train.csv\"\r\n",
    "\r\n",
    "#dataset = Dataset.Tabular.from_delimited_files(path=dataPath,validate=True, include_path=False,header=True, support_multi_line=False)\r\n",
    "\r\n",
    "dataset = Dataset.Tabular.from_delimited_files(path=dataPath,validate=True, include_path=False,header=PromoteHeadersBehavior.ONLY_FIRST_FILE_HAS_HEADERS, support_multi_line=False)\r\n",
    "\r\n",
    "#Enum with ONLY_FIRST_FILE_HAS_HEADERS https://github.com/Azure/MachineLearningNotebooks/issues/629 \r\n",
    "#https://docs.microsoft.com/en-us/python/api/azureml-core/azureml.data.dataset_type_definitions.promoteheadersbehavior?view=azure-ml-py"
   ],
   "outputs": [],
   "metadata": {}
  },
  {
   "cell_type": "markdown",
   "source": [
    "## Create & Run New AutoML Experiment"
   ],
   "metadata": {}
  },
  {
   "cell_type": "code",
   "execution_count": null,
   "source": [
    "from azureml.train.automl import AutoMLConfig\r\n",
    "\r\n",
    "# Set parameters for AutoMLConfig with\r\n",
    "# Classification\r\n",
    "# ensure Explain best model is checked\r\n",
    "# Exit criteria = 1 hour\r\n",
    "# reduce concurency to 5\r\n",
    "#\r\n",
    "\r\n",
    "automl_config = AutoMLConfig(\r\n",
    "    experiment_timeout_minutes=60,\r\n",
    "    task='classification',\r\n",
    "    primary_metric='accuracy',\r\n",
    "    training_data= dataset,\r\n",
    "    validation_size = 0.33,\r\n",
    "    label_column_name='y',\r\n",
    "    compute_target = cluster,\r\n",
    "    model_explainability = True,\r\n",
    "    max_concurrent_iteration = 5\r\n",
    "    )\r\n",
    "\r\n",
    "#SOURCE / HELP: https://docs.microsoft.com/en-us/python/api/azureml-train-automl-client/azureml.train.automl.automlconfig.automlconfig?view=azure-ml-py\r\n",
    "\r\n",
    "#  model_explainability: bool = True ???\r\n",
    "\r\n",
    "#validation_size, parameter to hold out a portion of the training data for validation >> here 33% as in the train.py\r\n",
    "# otherwise replace with n_cross_validations=5\r\n",
    "#SOURCE / HELP : https://docs.microsoft.com/en-us/azure/machine-learning/how-to-configure-cross-validation-data-splits"
   ],
   "outputs": [],
   "metadata": {}
  },
  {
   "cell_type": "code",
   "execution_count": null,
   "source": [
    "# Submit your automl run\r\n",
    "\r\n",
    "from azureml.widgets import RunDetails\r\n",
    "\r\n",
    "runAutoML = exp.submit(automl_config)\r\n",
    "\r\n",
    "RunDetails(runAutoML).show()"
   ],
   "outputs": [],
   "metadata": {}
  },
  {
   "cell_type": "code",
   "execution_count": null,
   "source": [
    "# Retrieve and display best run\r\n",
    "\r\n",
    "bestRunAutoML = runAutoML.get_best_child()\r\n",
    "\r\n",
    "RunDetails(bestRunAutoML).show()"
   ],
   "outputs": [],
   "metadata": {}
  },
  {
   "cell_type": "markdown",
   "source": [
    "# Step 3: Deploy the Best Model\r\n",
    "\r\n",
    "-Deploy the model and enable \"Authentication\"\r\n",
    "-Deploy the model using Azure Container Instance (ACI)"
   ],
   "metadata": {}
  },
  {
   "cell_type": "code",
   "execution_count": null,
   "source": [
    "#Define inference configuration\r\n",
    "\r\n",
    "from azureml.core import Environment\r\n",
    "from azureml.core.model import InferenceConfig\r\n",
    "\r\n",
    "env = Environment(name=\"Project 2 Udacity\")\r\n",
    "my_inference_config = InferenceConfig(\r\n",
    "    environment=env,\r\n",
    "    source_directory=\"./source_dir\",\r\n",
    "    entry_script=\"./score.py\",\r\n",
    ")"
   ],
   "outputs": [],
   "metadata": {}
  },
  {
   "cell_type": "code",
   "execution_count": null,
   "source": [
    "fromazureml.core.webservice import LocalWebservice\r\n",
    "\r\n",
    "deployment_config = LocalWebservice.deploy_configuration(port=9001)\r\n",
    "\r\n",
    "# Deploy the service locally\r\n",
    "\r\n",
    "service = bestRunAutoML.deploy(ws, \"local-service\", [model], my_inference_config, deployment_config)\r\n",
    "service.reload()\r\n",
    "print(service.run(input_data=json_data))\r\n"
   ],
   "outputs": [],
   "metadata": {}
  },
  {
   "cell_type": "code",
   "execution_count": null,
   "source": [
    "#Deploy to ACI\r\n",
    "\r\n",
    "from azureml.core.webservice import AciWebservice\r\n",
    "\r\n",
    "deployment_config = AciWebservice.deploy_configuration(\r\n",
    "    cpu_cores=0.5, memory_gb=1, auth_enabled=True\r\n",
    ")\r\n",
    "\r\n",
    "service = bestRunAutoML.deploy(\r\n",
    "    ws,\r\n",
    "    \"myservice\",\r\n",
    "    [model],\r\n",
    "    my_inference_config,\r\n",
    "    deployment_config,\r\n",
    "    overwrite=True,\r\n",
    ")\r\n",
    "service.wait_for_deployment(show_output=True)\r\n",
    "\r\n",
    "print(service.get_logs())\r\n",
    "\r\n",
    "#SOURCE / HELP : https://docs.microsoft.com/en-us/azure/machine-learning/how-to-deploy-and-where?tabs=python"
   ],
   "outputs": [],
   "metadata": {}
  },
  {
   "cell_type": "markdown",
   "source": [
    "# Step 4: Enable Logging\r\n",
    "\r\n",
    "- ensure az is installed, as well as the Python SDK for Azure\r\n",
    "- Create a new virtual environment with Python3\r\n",
    "- Write and run code to enable Application Insights\r\n",
    "- run logs.py to visualize logs"
   ],
   "metadata": {}
  },
  {
   "cell_type": "code",
   "execution_count": null,
   "source": [
    "fromazureml.core.webservice import Webservice\r\n",
    "\r\n",
    "# Requires the config to be downloaded first to the current working directory (config.json)\r\n",
    "ws = Workspace.from_config()\r\n",
    "\r\n",
    "# Set with the deployment name\r\n",
    "name = \"Best Model Deployed P2\"\r\n",
    "\r\n",
    "# load existing web service\r\n",
    "service = Webservice(name=name, workspace=ws)\r\n",
    "\r\n",
    "# enable application insight\r\n",
    "\r\n",
    "service.update(enable_app_insights=True)\r\n",
    "\r\n"
   ],
   "outputs": [],
   "metadata": {}
  }
 ],
 "metadata": {
  "orig_nbformat": 4,
  "language_info": {
   "name": "python"
  }
 },
 "nbformat": 4,
 "nbformat_minor": 2
}